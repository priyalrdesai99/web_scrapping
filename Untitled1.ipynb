{
 "cells": [
  {
   "cell_type": "code",
   "execution_count": 1,
   "metadata": {},
   "outputs": [],
   "source": [
    "from selenium import webdriver\n",
    "import pandas as pd\n",
    "from selenium.webdriver.support.select import Select\n",
    "from selenium.webdriver.support.ui import WebDriverWait\n",
    "from selenium.webdriver.support import expected_conditions as EC\n",
    "from selenium.webdriver.common.by import By\n",
    "import time"
   ]
  },
  {
   "cell_type": "code",
   "execution_count": 2,
   "metadata": {},
   "outputs": [],
   "source": [
    "def startDriver(path):\n",
    "    driver = webdriver.Chrome(path)\n",
    "    driver.get('https://www.barchart.com/stocks/quotes/GOOG/competitors')\n",
    "    return(driver)\n",
    "\n"
   ]
  },
  {
   "cell_type": "code",
   "execution_count": 7,
   "metadata": {},
   "outputs": [],
   "source": [
    "def scrapData(driver,data):\n",
    "    delay = 100\n",
    "    time.sleep(10)\n",
    "    table_data = WebDriverWait(driver, delay).until(EC.presence_of_element_located((By.XPATH, '//tbody')))\n",
    "    x = table_data.text.split(\"\\n\")\n",
    "    i = 0\n",
    "    while(i < len(x)):\n",
    "        data[x[i]] = x[i+1]\n",
    "        i = i+10\n",
    "    return(data)        "
   ]
  },
  {
   "cell_type": "code",
   "execution_count": 39,
   "metadata": {},
   "outputs": [],
   "source": [
    "def getWholeData(select_box,driver):\n",
    "    data = {}\n",
    "    for i in select_box.options:\n",
    "            temp = 0\n",
    "            select_box.select_by_visible_text(i.text)\n",
    "            print(i.text)\n",
    "            try:\n",
    "                delay = 10\n",
    "                while(driver.find_element_by_link_text(\">>\")):\n",
    "                    driver.find_element_by_class_name(\"next\").click()\n",
    "                    data = scrapData(driver,data)\n",
    "                    temp = 1 \n",
    "                #element = WebDriverWait(driver, 20).until(EC.presence_of_element_located((By.XPATH, '//tbody')))\n",
    "#                 element.click()\n",
    "                \n",
    "                #print(\"H\")\n",
    "            except:\n",
    "                a = 0 \n",
    "                #print(a)\n",
    "            \n",
    "            if(temp == 0):\n",
    "                data = scrapData(driver,data)\n",
    "            print(len(data))\n",
    "    return(data)"
   ]
  },
  {
   "cell_type": "code",
   "execution_count": 40,
   "metadata": {},
   "outputs": [],
   "source": [
    "def getDropDownList(driver):\n",
    "    return(Select(driver.find_element_by_id(\"competitors-quote-sectors\")))\n"
   ]
  },
  {
   "cell_type": "code",
   "execution_count": 50,
   "metadata": {},
   "outputs": [
    {
     "name": "stdout",
     "output_type": "stream",
     "text": [
      "SIC-7370 Services-Computer Programming, Data Processi\n",
      "42\n",
      "Internet - Services\n",
      "74\n",
      "Indices Nasdaq 100\n"
     ]
    },
    {
     "ename": "KeyboardInterrupt",
     "evalue": "",
     "output_type": "error",
     "traceback": [
      "\u001b[1;31m---------------------------------------------------------------------------\u001b[0m",
      "\u001b[1;31mKeyboardInterrupt\u001b[0m                         Traceback (most recent call last)",
      "\u001b[1;32m<ipython-input-50-44e2207cbc95>\u001b[0m in \u001b[0;36m<module>\u001b[1;34m\u001b[0m\n\u001b[0;32m      3\u001b[0m \u001b[0mdriver\u001b[0m \u001b[1;33m=\u001b[0m \u001b[0mstartDriver\u001b[0m\u001b[1;33m(\u001b[0m\u001b[0mdriver_path\u001b[0m\u001b[1;33m)\u001b[0m\u001b[1;33m\u001b[0m\u001b[1;33m\u001b[0m\u001b[0m\n\u001b[0;32m      4\u001b[0m \u001b[0mdropdown_items\u001b[0m \u001b[1;33m=\u001b[0m \u001b[0mgetDropDownList\u001b[0m\u001b[1;33m(\u001b[0m\u001b[0mdriver\u001b[0m\u001b[1;33m)\u001b[0m\u001b[1;33m\u001b[0m\u001b[1;33m\u001b[0m\u001b[0m\n\u001b[1;32m----> 5\u001b[1;33m \u001b[0mdata\u001b[0m \u001b[1;33m=\u001b[0m \u001b[0mgetWholeData\u001b[0m\u001b[1;33m(\u001b[0m\u001b[0mdropdown_items\u001b[0m\u001b[1;33m,\u001b[0m\u001b[0mdriver\u001b[0m\u001b[1;33m)\u001b[0m\u001b[1;33m\u001b[0m\u001b[1;33m\u001b[0m\u001b[0m\n\u001b[0m",
      "\u001b[1;32m<ipython-input-39-df089b665811>\u001b[0m in \u001b[0;36mgetWholeData\u001b[1;34m(select_box, driver)\u001b[0m\n\u001b[0;32m     20\u001b[0m \u001b[1;33m\u001b[0m\u001b[0m\n\u001b[0;32m     21\u001b[0m             \u001b[1;32mif\u001b[0m\u001b[1;33m(\u001b[0m\u001b[0mtemp\u001b[0m \u001b[1;33m==\u001b[0m \u001b[1;36m0\u001b[0m\u001b[1;33m)\u001b[0m\u001b[1;33m:\u001b[0m\u001b[1;33m\u001b[0m\u001b[1;33m\u001b[0m\u001b[0m\n\u001b[1;32m---> 22\u001b[1;33m                 \u001b[0mdata\u001b[0m \u001b[1;33m=\u001b[0m \u001b[0mscrapData\u001b[0m\u001b[1;33m(\u001b[0m\u001b[0mdriver\u001b[0m\u001b[1;33m,\u001b[0m\u001b[0mdata\u001b[0m\u001b[1;33m)\u001b[0m\u001b[1;33m\u001b[0m\u001b[1;33m\u001b[0m\u001b[0m\n\u001b[0m\u001b[0;32m     23\u001b[0m             \u001b[0mprint\u001b[0m\u001b[1;33m(\u001b[0m\u001b[0mlen\u001b[0m\u001b[1;33m(\u001b[0m\u001b[0mdata\u001b[0m\u001b[1;33m)\u001b[0m\u001b[1;33m)\u001b[0m\u001b[1;33m\u001b[0m\u001b[1;33m\u001b[0m\u001b[0m\n\u001b[0;32m     24\u001b[0m     \u001b[1;32mreturn\u001b[0m\u001b[1;33m(\u001b[0m\u001b[0mdata\u001b[0m\u001b[1;33m)\u001b[0m\u001b[1;33m\u001b[0m\u001b[1;33m\u001b[0m\u001b[0m\n",
      "\u001b[1;32m<ipython-input-7-01e9cce11c64>\u001b[0m in \u001b[0;36mscrapData\u001b[1;34m(driver, data)\u001b[0m\n\u001b[0;32m      1\u001b[0m \u001b[1;32mdef\u001b[0m \u001b[0mscrapData\u001b[0m\u001b[1;33m(\u001b[0m\u001b[0mdriver\u001b[0m\u001b[1;33m,\u001b[0m\u001b[0mdata\u001b[0m\u001b[1;33m)\u001b[0m\u001b[1;33m:\u001b[0m\u001b[1;33m\u001b[0m\u001b[1;33m\u001b[0m\u001b[0m\n\u001b[0;32m      2\u001b[0m     \u001b[0mdelay\u001b[0m \u001b[1;33m=\u001b[0m \u001b[1;36m100\u001b[0m\u001b[1;33m\u001b[0m\u001b[1;33m\u001b[0m\u001b[0m\n\u001b[1;32m----> 3\u001b[1;33m     \u001b[0mtime\u001b[0m\u001b[1;33m.\u001b[0m\u001b[0msleep\u001b[0m\u001b[1;33m(\u001b[0m\u001b[1;36m10\u001b[0m\u001b[1;33m)\u001b[0m\u001b[1;33m\u001b[0m\u001b[1;33m\u001b[0m\u001b[0m\n\u001b[0m\u001b[0;32m      4\u001b[0m     \u001b[0mtable_data\u001b[0m \u001b[1;33m=\u001b[0m \u001b[0mWebDriverWait\u001b[0m\u001b[1;33m(\u001b[0m\u001b[0mdriver\u001b[0m\u001b[1;33m,\u001b[0m \u001b[0mdelay\u001b[0m\u001b[1;33m)\u001b[0m\u001b[1;33m.\u001b[0m\u001b[0muntil\u001b[0m\u001b[1;33m(\u001b[0m\u001b[0mEC\u001b[0m\u001b[1;33m.\u001b[0m\u001b[0mpresence_of_element_located\u001b[0m\u001b[1;33m(\u001b[0m\u001b[1;33m(\u001b[0m\u001b[0mBy\u001b[0m\u001b[1;33m.\u001b[0m\u001b[0mXPATH\u001b[0m\u001b[1;33m,\u001b[0m \u001b[1;34m'//tbody'\u001b[0m\u001b[1;33m)\u001b[0m\u001b[1;33m)\u001b[0m\u001b[1;33m)\u001b[0m\u001b[1;33m\u001b[0m\u001b[1;33m\u001b[0m\u001b[0m\n\u001b[0;32m      5\u001b[0m     \u001b[0mx\u001b[0m \u001b[1;33m=\u001b[0m \u001b[0mtable_data\u001b[0m\u001b[1;33m.\u001b[0m\u001b[0mtext\u001b[0m\u001b[1;33m.\u001b[0m\u001b[0msplit\u001b[0m\u001b[1;33m(\u001b[0m\u001b[1;34m\"\\n\"\u001b[0m\u001b[1;33m)\u001b[0m\u001b[1;33m\u001b[0m\u001b[1;33m\u001b[0m\u001b[0m\n",
      "\u001b[1;31mKeyboardInterrupt\u001b[0m: "
     ]
    }
   ],
   "source": [
    "driver_path = 'D:/softwares/chromedriver'\n",
    "file_path = ''\n",
    "driver = startDriver(driver_path)\n",
    "dropdown_items = getDropDownList(driver)\n",
    "data = getWholeData(dropdown_items,driver)\n"
   ]
  },
  {
   "cell_type": "code",
   "execution_count": 38,
   "metadata": {},
   "outputs": [
    {
     "data": {
      "text/plain": [
       "1181"
      ]
     },
     "execution_count": 38,
     "metadata": {},
     "output_type": "execute_result"
    }
   ],
   "source": [
    "len(data)"
   ]
  },
  {
   "cell_type": "code",
   "execution_count": 52,
   "metadata": {},
   "outputs": [
    {
     "name": "stdout",
     "output_type": "stream",
     "text": [
      "100\n",
      "198\n",
      "298\n",
      "398\n",
      "401\n"
     ]
    }
   ],
   "source": [
    "dropdown_items = getDropDownList(driver)\n",
    "x = {}\n",
    "dropdown_items.select_by_visible_text(\"Indices S&P 500\")\n",
    "#print(\"H\")\n",
    "try:\n",
    "    while(driver.find_element_by_link_text(\">>\")):\n",
    "        \n",
    "        driver.find_element_by_class_name(\"next\").click()\n",
    "        x = scrapData(driver,x)\n",
    "        print(len(x))\n",
    "        temp = 1 #     element = WebDriverWait(driver, 20).until(EC.element_to_be_clickable((By.linkText, \"Show all\")))\n",
    "    driver.find_element_by_class_name(\"next\").click()\n",
    "#     element.click()\n",
    "\n",
    "    #print(\"H\")\n",
    "except:\n",
    "    a = 0\n",
    "x = scrapData(driver,x)"
   ]
  },
  {
   "cell_type": "code",
   "execution_count": 53,
   "metadata": {},
   "outputs": [
    {
     "name": "stdout",
     "output_type": "stream",
     "text": [
      "401\n"
     ]
    }
   ],
   "source": [
    "print(len(x))"
   ]
  },
  {
   "cell_type": "code",
   "execution_count": 17,
   "metadata": {},
   "outputs": [],
   "source": [
    "dropdown_items.select_by_visible_text(\"Indices Nasdaq 100\")\n",
    "try:\n",
    "    delay = 10\n",
    "    driver.find_element_by_link_text(\"Show all\")\n",
    "    element = WebDriverWait(driver, 20).until(EC.element_to_be_clickable((By.linkText, \"Show all\")))\n",
    "    element.click()\n",
    "\n",
    "    #print(\"H\")\n",
    "except:\n",
    "    a = 0\n",
    "y = {}    \n",
    "y = scrapData(driver,y)"
   ]
  },
  {
   "cell_type": "code",
   "execution_count": 18,
   "metadata": {},
   "outputs": [
    {
     "name": "stdout",
     "output_type": "stream",
     "text": [
      "100\n"
     ]
    }
   ],
   "source": [
    "print(len(y))"
   ]
  },
  {
   "cell_type": "code",
   "execution_count": 19,
   "metadata": {},
   "outputs": [
    {
     "data": {
      "text/plain": [
       "{'TSLA': 'Tesla Inc',\n",
       " 'ZM': 'Zoom Video Communications Cl A',\n",
       " 'DXCM': 'Dexcom',\n",
       " 'NVDA': 'Nvidia Corp',\n",
       " 'JD': 'Jd.com Inc Ads',\n",
       " 'SGEN': 'Seattle Genetics Inc',\n",
       " 'REGN': 'Regeneron Pharmaceuticals',\n",
       " 'LULU': 'Lululemon Athletica',\n",
       " 'SWKS': 'Skyworks Solutions',\n",
       " 'ASML': 'Asml Hld NY Reg',\n",
       " 'SPLK': 'Splunk Inc',\n",
       " 'AAPL': 'Apple Inc',\n",
       " 'NTES': 'Netease Inc Ads',\n",
       " 'AMD': 'Adv Micro Devices',\n",
       " 'VRTX': 'Vertex Pharmaceutic',\n",
       " 'KLAC': 'K L A-Tencor Corp',\n",
       " 'SNPS': 'Synopsys Inc',\n",
       " 'LRCX': 'Lam Research Corp',\n",
       " 'PYPL': 'Paypal Holdings',\n",
       " 'ATVI': 'Activision Blizzard',\n",
       " 'ADSK': 'Autodesk Inc',\n",
       " 'CDNS': 'Cadence Design Sys',\n",
       " 'CTXS': 'Citrix Systems Inc',\n",
       " 'AMZN': 'Amazon.com Inc',\n",
       " 'EBAY': 'Ebay Inc',\n",
       " 'ANSS': 'Ansys Inc',\n",
       " 'BMRN': 'Biomarin Pharmaceuticals',\n",
       " 'AMAT': 'Applied Materials',\n",
       " 'ADBE': 'Adobe Systems Inc',\n",
       " 'MSFT': 'Microsoft Corp',\n",
       " 'MELI': 'Mercadolibre Inc',\n",
       " 'MU': 'Micron Technology',\n",
       " 'CHTR': 'Charter Communicatio',\n",
       " 'TMUS': 'T-Mobile US',\n",
       " 'FAST': 'Fastenal Company',\n",
       " 'INTC': 'Intel Corp',\n",
       " 'FB': 'Facebook Inc',\n",
       " 'CTAS': 'Cintas Corp',\n",
       " 'IDXX': 'Idexx Laboratories',\n",
       " 'GOOG': 'Alphabet Cl C',\n",
       " 'GOOGL': 'Alphabet Cl A',\n",
       " 'MCHP': 'Microchip Technology',\n",
       " 'NFLX': 'Netflix Inc',\n",
       " 'SIRI': 'Sirius XM Holdings',\n",
       " 'EA': 'Electronic Arts Inc',\n",
       " 'QCOM': 'Qualcomm Inc',\n",
       " 'ADI': 'Analog Devices',\n",
       " 'GILD': 'Gilead Sciences Inc',\n",
       " 'AMGN': 'Amgen Inc',\n",
       " 'INCY': 'Incyte Corp',\n",
       " 'COST': 'Costco Wholesale',\n",
       " 'ORLY': \"O'Reilly Automotive\",\n",
       " 'CSGP': 'Costar Group Inc',\n",
       " 'ILMN': 'Illumina Inc',\n",
       " 'NXPI': 'Nxp Semiconductors',\n",
       " 'CPRT': 'Copart Inc',\n",
       " 'TXN': 'Texas Instruments',\n",
       " 'MNST': 'Monster Beverage Cp',\n",
       " 'XEL': 'XCEL Energy Inc',\n",
       " 'INTU': 'Intuit Inc',\n",
       " 'AVGO': 'Broadcom Ltd',\n",
       " 'KHC': 'Kraft Heinz Company',\n",
       " 'VRSK': 'Verisk Analytics Inc',\n",
       " 'TTWO': 'Take-Two Interacti',\n",
       " 'FISV': 'Fiserv Inc',\n",
       " 'BIIB': 'Biogen Inc',\n",
       " 'MXIM': 'Maxim Integrated',\n",
       " 'PCAR': 'Paccar Inc',\n",
       " 'ALGN': 'Align Technology',\n",
       " 'ISRG': 'Intuitive Surg Inc',\n",
       " 'CDW': 'CDW Corp',\n",
       " 'VRSN': 'Verisign Inc',\n",
       " 'ROST': 'Ross Stores Inc',\n",
       " 'WDC': 'Western Digital Cp',\n",
       " 'ALXN': 'Alexion Pharm Inc',\n",
       " 'CSX': 'CSX Corp',\n",
       " 'CERN': 'Cerner Corp',\n",
       " 'BIDU': 'Baidu Inc',\n",
       " 'CMCSA': 'Comcast Corp A',\n",
       " 'CHKP': 'Check Point Software',\n",
       " 'BKNG': 'Booking Holdings Inc',\n",
       " 'PEP': 'Pepsico Inc',\n",
       " 'PAYX': 'Paychex Inc',\n",
       " 'XLNX': 'Xilinx Inc',\n",
       " 'MDLZ': 'Mondelez Intl Inc',\n",
       " 'DLTR': 'Dollar Tree Inc',\n",
       " 'SBUX': 'Starbucks Corp',\n",
       " 'ADP': 'Automatic Data Procs',\n",
       " 'LBTYA': 'Liberty Global Ord A',\n",
       " 'FOX': 'Fox Corp Cl B',\n",
       " 'CSCO': 'Cisco Systems Inc',\n",
       " 'FOXA': 'Fox Corp Cl A',\n",
       " 'LBTYK': 'Liberty Global Ord C',\n",
       " 'EXPE': 'Expedia Group Inc',\n",
       " 'ULTA': 'Ulta Beauty Inc',\n",
       " 'WDAY': 'Workday Inc',\n",
       " 'TCOM': 'Trip.com Group Ltd',\n",
       " 'CTSH': 'Cognizant Tech Sol',\n",
       " 'WBA': 'Walgreens Boots Alliance',\n",
       " 'EXC': 'Exelon Corp'}"
      ]
     },
     "execution_count": 19,
     "metadata": {},
     "output_type": "execute_result"
    }
   ],
   "source": [
    "y"
   ]
  },
  {
   "cell_type": "code",
   "execution_count": null,
   "metadata": {},
   "outputs": [],
   "source": []
  }
 ],
 "metadata": {
  "kernelspec": {
   "display_name": "Python 3",
   "language": "python",
   "name": "python3"
  },
  "language_info": {
   "codemirror_mode": {
    "name": "ipython",
    "version": 3
   },
   "file_extension": ".py",
   "mimetype": "text/x-python",
   "name": "python",
   "nbconvert_exporter": "python",
   "pygments_lexer": "ipython3",
   "version": "3.7.3"
  }
 },
 "nbformat": 4,
 "nbformat_minor": 2
}
