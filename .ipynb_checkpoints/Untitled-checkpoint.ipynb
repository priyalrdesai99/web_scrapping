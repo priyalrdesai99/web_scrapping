{
 "cells": [
  {
   "cell_type": "code",
   "execution_count": 1,
   "metadata": {},
   "outputs": [],
   "source": [
    "from selenium import webdriver\n",
    "import pandas as pd"
   ]
  },
  {
   "cell_type": "code",
   "execution_count": 96,
   "metadata": {},
   "outputs": [],
   "source": [
    "#driver = webdriver.Chrome('D:/softwares/chromedriver')"
   ]
  },
  {
   "cell_type": "code",
   "execution_count": 97,
   "metadata": {},
   "outputs": [],
   "source": [
    "#driver.get('https://www.barchart.com/stocks/quotes/GOOG/competitors')"
   ]
  },
  {
   "cell_type": "code",
   "execution_count": 98,
   "metadata": {},
   "outputs": [
    {
     "data": {
      "text/plain": [
       "<selenium.webdriver.chrome.webdriver.WebDriver (session=\"9b285982cdcccfa1572d40463d880a43\")>"
      ]
     },
     "execution_count": 98,
     "metadata": {},
     "output_type": "execute_result"
    }
   ],
   "source": []
  },
  {
   "cell_type": "code",
   "execution_count": 62,
   "metadata": {},
   "outputs": [],
   "source": [
    "# def getData(driver):\n",
    "#     table_data = driver.find_elements_by_tag_name('tbody')\n",
    "#     data = {}\n",
    "#     x = table_data[0].text.split(\"\\n\")\n",
    "#     i = 0\n",
    "#     while(i < len(x)):\n",
    "#         data[x[i]] = x[i+1]\n",
    "#         i = i+10\n",
    "#     return(data)\n",
    "\n",
    "def startDriver(path):\n",
    "    driver = webdriver.Chrome(path)\n",
    "    driver.get('https://www.barchart.com/stocks/quotes/GOOG/competitors')\n",
    "    return(driver)\n",
    "\n",
    "driver_path = 'D:/softwares/chromedriver'\n",
    "file_path = ''\n",
    "driver = startDriver(driver_path)    \n",
    "#data = getData(driver)\n"
   ]
  },
  {
   "cell_type": "code",
   "execution_count": 66,
   "metadata": {},
   "outputs": [],
   "source": []
  },
  {
   "cell_type": "code",
   "execution_count": 18,
   "metadata": {},
   "outputs": [
    {
     "data": {
      "text/plain": [
       "['  SIC-7370 Services-Computer Programming, Data Processi',\n",
       " '  Internet - Services',\n",
       " '  Indices Nasdaq 100',\n",
       " '  Indices S&P 100',\n",
       " '  Indices S&P 500',\n",
       " '  Indices S&P 500 Telcomm',\n",
       " '  Indices Nasdaq Composite',\n",
       " '  Indices Russell 1000',\n",
       " '  Indices Russell 3000',\n",
       " '  ']"
      ]
     },
     "execution_count": 18,
     "metadata": {},
     "output_type": "execute_result"
    }
   ],
   "source": [
    "#driver.find_element_by_id(\"competitors-quote-sectors\").text.split(\"\\n\")"
   ]
  },
  {
   "cell_type": "code",
   "execution_count": 40,
   "metadata": {},
   "outputs": [],
   "source": []
  },
  {
   "cell_type": "code",
   "execution_count": 48,
   "metadata": {},
   "outputs": [
    {
     "data": {
      "text/plain": [
       "'Internet - Services'"
      ]
     },
     "execution_count": 48,
     "metadata": {},
     "output_type": "execute_result"
    }
   ],
   "source": []
  },
  {
   "cell_type": "code",
   "execution_count": 28,
   "metadata": {},
   "outputs": [
    {
     "data": {
      "text/plain": [
       "'  SIC-7370 Services-Computer Programming, Data Processi'"
      ]
     },
     "execution_count": 28,
     "metadata": {},
     "output_type": "execute_result"
    }
   ],
   "source": [
    "#select_box[0].text.split(\"\\n\")[0]"
   ]
  },
  {
   "cell_type": "code",
   "execution_count": 64,
   "metadata": {},
   "outputs": [],
   "source": []
  },
  {
   "cell_type": "code",
   "execution_count": 112,
   "metadata": {},
   "outputs": [],
   "source": [
    "def scrapData(table_data,data):\n",
    "    delay = 100\n",
    "    table_data = WebDriverWait(driver, delay).until(EC.presence_of_element_located((By.XPATH, '//tbody')))\n",
    "    \n",
    "    #print(table_data[0].text)\n",
    "    x = table_data.text.split(\"\\n\")\n",
    "    i = 0\n",
    "    while(i < len(x)):\n",
    "        data[x[i]] = x[i+1]\n",
    "        i = i+10\n",
    "    return(data)        "
   ]
  },
  {
   "cell_type": "code",
   "execution_count": null,
   "metadata": {},
   "outputs": [
    {
     "name": "stdout",
     "output_type": "stream",
     "text": [
      "SIC-7370 Services-Computer Programming, Data Processi\n",
      "0\n",
      "Internet - Services\n",
      "42\n",
      "Indices Nasdaq 100\n",
      "74\n",
      "Indices S&P 100\n",
      "172\n",
      "Indices S&P 500\n",
      "172\n",
      "Indices S&P 500 Telcomm\n",
      "246\n",
      "Indices Nasdaq Composite\n",
      "256\n",
      "Indices Russell 1000\n",
      "1092\n"
     ]
    }
   ],
   "source": [
    "from selenium.webdriver.support.select import Select\n",
    "from selenium.webdriver.support.select import Select\n",
    "from selenium.webdriver.support.ui import WebDriverWait\n",
    "from selenium.webdriver.support import expected_conditions as EC\n",
    "from selenium.webdriver.common.by import By\n",
    "\n",
    "select_box = Select(driver.find_element_by_id(\"competitors-quote-sectors\"))\n",
    "data = {}\n",
    "for i in select_box.options:\n",
    "        select_box.select_by_visible_text(i.text)\n",
    "        print(i.text)\n",
    "        try:\n",
    "            driver.find_element_by_link_text(\"Show all\").click()\n",
    "            #print(\"H\")\n",
    "        except:\n",
    "            a = 0 \n",
    "            #print(a)\n",
    "        print(len(data))\n",
    "        data = scrapData(driver,data)"
   ]
  },
  {
   "cell_type": "code",
   "execution_count": null,
   "metadata": {},
   "outputs": [],
   "source": [
    "len(data)"
   ]
  },
  {
   "cell_type": "code",
   "execution_count": 117,
   "metadata": {},
   "outputs": [],
   "source": [
    "select_box.select_by_visible_text(\"Indices S&P 500\")"
   ]
  },
  {
   "cell_type": "code",
   "execution_count": 118,
   "metadata": {},
   "outputs": [],
   "source": [
    "try:\n",
    "    driver.find_element_by_link_text(\"Show all\").click()\n",
    "            #print(\"H\")\n",
    "except:\n",
    "    a = 0 \n"
   ]
  },
  {
   "cell_type": "code",
   "execution_count": 119,
   "metadata": {},
   "outputs": [],
   "source": [
    "data = {}\n",
    "table_data = driver.find_elements_by_tag_name('tbody')\n",
    "x = table_data[0].text.split(\"\\n\")\n",
    "i = 2\n",
    "\n",
    "while(i < len(x)):\n",
    "    data[x[i]] = x[i+1]\n",
    "    i = i+10\n",
    "#print(driver)     "
   ]
  },
  {
   "cell_type": "code",
   "execution_count": 120,
   "metadata": {},
   "outputs": [
    {
     "data": {
      "text/plain": [
       "381"
      ]
     },
     "execution_count": 120,
     "metadata": {},
     "output_type": "execute_result"
    }
   ],
   "source": [
    "len(data)"
   ]
  },
  {
   "cell_type": "code",
   "execution_count": null,
   "metadata": {},
   "outputs": [],
   "source": []
  },
  {
   "cell_type": "code",
   "execution_count": 50,
   "metadata": {},
   "outputs": [],
   "source": [
    "select_box.select_by_visible_text(a[2][2:])"
   ]
  },
  {
   "cell_type": "code",
   "execution_count": 8,
   "metadata": {},
   "outputs": [
    {
     "name": "stdout",
     "output_type": "stream",
     "text": [
      "{'ASPU': 'Aspen Group Inc', 'BILI': 'Bilibili Inc ADR', 'SHOP': 'Shopify Inc', 'ZS': 'Zscaler Inc', 'VNET': '21Vianet Group Inc', 'ETSY': 'Etsy Inc', 'LLNW': 'Limelight Networks', 'TTD': 'Trade Desk Inc', 'GIGM': 'Gigamedia Ltd', 'FB': 'Facebook Inc', 'GOOG': 'Alphabet Cl C', 'GOOGL': 'Alphabet Cl A', 'ANGI': 'Homeservices Inc', 'AKAM': 'Akamai Technologies', 'ZG': 'Zillow Grp Inc Cl A', 'MTCH': 'Match Group Inc CS', 'SVMK': 'Svmk Inc', 'DBX': 'Dropbox Inc', 'CTK': 'Cootek [Cayman] Inc', 'YY': 'YY Inc', 'UBER': 'Uber Technologies Inc', 'ATHM': 'Autohome Inc', 'BIDU': 'Baidu Inc', 'HSTM': 'Healthstream Inc', 'XNET': 'Xunlei Ltd ADR', 'LPSN': 'Liveperson Inc', 'CANG': 'Cango Inc ADR', 'UXIN': 'Uxin Ltd Ads', 'SOHU': 'Sohu.com Inc', 'BLIN': 'Bridgeline Digital', 'UPWK': 'Upwork Inc', 'EB': 'Eventbrite Inc', 'TRVG': 'Trivago NV', 'LYFT': 'Lyft Inc Cl A', 'SYNC': 'Synacor Inc', 'TRUE': 'Truecar Inc', 'VIOT': 'Viomi Technology Co. Ltd ADR', 'STG': 'Sunlands Online Education Group ADR', 'YTRA': 'Yatra Online Inc', 'JRJC': 'China Finance Online', 'LEAF': 'Leaf Group Ltd', 'MCHX': 'Marchex Inc', 'LTRPA': 'Liberty Tripadv A', 'YRD': 'Yirendai Ltd', 'RMBL': 'Rumbleon Inc.'}\n"
     ]
    }
   ],
   "source": [
    "print(data)"
   ]
  },
  {
   "cell_type": "code",
   "execution_count": 39,
   "metadata": {},
   "outputs": [],
   "source": [
    "f = open(\"./input_of_symbols.txt\")"
   ]
  },
  {
   "cell_type": "code",
   "execution_count": 40,
   "metadata": {},
   "outputs": [],
   "source": [
    "a = f.read().split(\",\")\n"
   ]
  },
  {
   "cell_type": "code",
   "execution_count": 44,
   "metadata": {},
   "outputs": [
    {
     "data": {
      "text/plain": [
       "'Aspen Group Inc'"
      ]
     },
     "execution_count": 44,
     "metadata": {},
     "output_type": "execute_result"
    }
   ],
   "source": [
    "data['ASPU']"
   ]
  },
  {
   "cell_type": "code",
   "execution_count": 42,
   "metadata": {},
   "outputs": [
    {
     "ename": "KeyError",
     "evalue": "'AAPL'",
     "output_type": "error",
     "traceback": [
      "\u001b[1;31m---------------------------------------------------------------------------\u001b[0m",
      "\u001b[1;31mKeyError\u001b[0m                                  Traceback (most recent call last)",
      "\u001b[1;32m<ipython-input-42-d8be71f3938e>\u001b[0m in \u001b[0;36m<module>\u001b[1;34m\u001b[0m\n\u001b[0;32m      1\u001b[0m \u001b[1;32mimport\u001b[0m \u001b[0mjson\u001b[0m\u001b[1;33m\u001b[0m\u001b[1;33m\u001b[0m\u001b[0m\n\u001b[1;32m----> 2\u001b[1;33m \u001b[0mr\u001b[0m \u001b[1;33m=\u001b[0m \u001b[0mjson\u001b[0m\u001b[1;33m.\u001b[0m\u001b[0mdumps\u001b[0m\u001b[1;33m(\u001b[0m\u001b[1;33m[\u001b[0m\u001b[1;33m{\u001b[0m\u001b[0mi\u001b[0m\u001b[1;33m:\u001b[0m\u001b[0mdata\u001b[0m\u001b[1;33m[\u001b[0m\u001b[0mi\u001b[0m\u001b[1;33m]\u001b[0m\u001b[1;33m}\u001b[0m \u001b[1;32mfor\u001b[0m \u001b[0mi\u001b[0m \u001b[1;32min\u001b[0m \u001b[0ma\u001b[0m\u001b[1;33m]\u001b[0m\u001b[1;33m)\u001b[0m\u001b[1;33m\u001b[0m\u001b[1;33m\u001b[0m\u001b[0m\n\u001b[0m",
      "\u001b[1;32m<ipython-input-42-d8be71f3938e>\u001b[0m in \u001b[0;36m<listcomp>\u001b[1;34m(.0)\u001b[0m\n\u001b[0;32m      1\u001b[0m \u001b[1;32mimport\u001b[0m \u001b[0mjson\u001b[0m\u001b[1;33m\u001b[0m\u001b[1;33m\u001b[0m\u001b[0m\n\u001b[1;32m----> 2\u001b[1;33m \u001b[0mr\u001b[0m \u001b[1;33m=\u001b[0m \u001b[0mjson\u001b[0m\u001b[1;33m.\u001b[0m\u001b[0mdumps\u001b[0m\u001b[1;33m(\u001b[0m\u001b[1;33m[\u001b[0m\u001b[1;33m{\u001b[0m\u001b[0mi\u001b[0m\u001b[1;33m:\u001b[0m\u001b[0mdata\u001b[0m\u001b[1;33m[\u001b[0m\u001b[0mi\u001b[0m\u001b[1;33m]\u001b[0m\u001b[1;33m}\u001b[0m \u001b[1;32mfor\u001b[0m \u001b[0mi\u001b[0m \u001b[1;32min\u001b[0m \u001b[0ma\u001b[0m\u001b[1;33m]\u001b[0m\u001b[1;33m)\u001b[0m\u001b[1;33m\u001b[0m\u001b[1;33m\u001b[0m\u001b[0m\n\u001b[0m",
      "\u001b[1;31mKeyError\u001b[0m: 'AAPL'"
     ]
    }
   ],
   "source": [
    "import json\n",
    "r = json.dumps([{i:data[i]} for i in a])"
   ]
  },
  {
   "cell_type": "code",
   "execution_count": 38,
   "metadata": {},
   "outputs": [
    {
     "data": {
      "text/plain": [
       "'[{\"ASPU\": \"Aspen Group Inc\"}, {\"BILI\": \"Bilibili Inc ADR\"}, {\"SHOP\": \"Shopify Inc\"}, {\"ZS\": \"Zscaler Inc\"}, {\"VNET\": \"21Vianet Group Inc\"}, {\"ETSY\": \"Etsy Inc\"}, {\"LLNW\": \"Limelight Networks\"}, {\"TTD\": \"Trade Desk Inc\"}, {\"GIGM\": \"Gigamedia Ltd\"}, {\"FB\": \"Facebook Inc\"}, {\"GOOG\": \"Alphabet Cl C\"}, {\"GOOGL\": \"Alphabet Cl A\"}, {\"ANGI\": \"Homeservices Inc\"}, {\"AKAM\": \"Akamai Technologies\"}, {\"ZG\": \"Zillow Grp Inc Cl A\"}, {\"MTCH\": \"Match Group Inc CS\"}, {\"SVMK\": \"Svmk Inc\"}, {\"DBX\": \"Dropbox Inc\"}, {\"CTK\": \"Cootek [Cayman] Inc\"}, {\"YY\": \"YY Inc\"}, {\"UBER\": \"Uber Technologies Inc\"}, {\"ATHM\": \"Autohome Inc\"}, {\"BIDU\": \"Baidu Inc\"}, {\"HSTM\": \"Healthstream Inc\"}, {\"XNET\": \"Xunlei Ltd ADR\"}, {\"LPSN\": \"Liveperson Inc\"}, {\"CANG\": \"Cango Inc ADR\"}, {\"UXIN\": \"Uxin Ltd Ads\"}, {\"SOHU\": \"Sohu.com Inc\"}, {\"BLIN\": \"Bridgeline Digital\"}, {\"UPWK\": \"Upwork Inc\"}, {\"EB\": \"Eventbrite Inc\"}, {\"TRVG\": \"Trivago NV\"}, {\"LYFT\": \"Lyft Inc Cl A\"}, {\"SYNC\": \"Synacor Inc\"}, {\"TRUE\": \"Truecar Inc\"}, {\"VIOT\": \"Viomi Technology Co. Ltd ADR\"}, {\"STG\": \"Sunlands Online Education Group ADR\"}, {\"YTRA\": \"Yatra Online Inc\"}, {\"JRJC\": \"China Finance Online\"}, {\"LEAF\": \"Leaf Group Ltd\"}, {\"MCHX\": \"Marchex Inc\"}, {\"LTRPA\": \"Liberty Tripadv A\"}, {\"YRD\": \"Yirendai Ltd\"}, {\"RMBL\": \"Rumbleon Inc.\"}]'"
      ]
     },
     "execution_count": 38,
     "metadata": {},
     "output_type": "execute_result"
    }
   ],
   "source": []
  },
  {
   "cell_type": "code",
   "execution_count": 24,
   "metadata": {},
   "outputs": [
    {
     "data": {
      "text/plain": [
       "'[{\"a\": 5}, {\"a\": 5}]'"
      ]
     },
     "execution_count": 24,
     "metadata": {},
     "output_type": "execute_result"
    }
   ],
   "source": [
    "json_format = {'list': []}\n",
    "json_format['list'].append({'a':5})\n",
    "json_format['list'].append({'a':5})\n",
    "json_format['list']\n",
    "json.dumps(json_format['list'])"
   ]
  },
  {
   "cell_type": "code",
   "execution_count": null,
   "metadata": {},
   "outputs": [],
   "source": []
  },
  {
   "cell_type": "code",
   "execution_count": null,
   "metadata": {},
   "outputs": [],
   "source": []
  },
  {
   "cell_type": "code",
   "execution_count": null,
   "metadata": {},
   "outputs": [],
   "source": [
    "\n",
    "    "
   ]
  },
  {
   "cell_type": "code",
   "execution_count": null,
   "metadata": {},
   "outputs": [],
   "source": []
  }
 ],
 "metadata": {
  "kernelspec": {
   "display_name": "Python 3",
   "language": "python",
   "name": "python3"
  },
  "language_info": {
   "codemirror_mode": {
    "name": "ipython",
    "version": 3
   },
   "file_extension": ".py",
   "mimetype": "text/x-python",
   "name": "python",
   "nbconvert_exporter": "python",
   "pygments_lexer": "ipython3",
   "version": "3.7.3"
  }
 },
 "nbformat": 4,
 "nbformat_minor": 2
}
