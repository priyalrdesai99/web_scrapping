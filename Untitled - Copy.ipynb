{
 "cells": [
  {
   "cell_type": "code",
   "execution_count": 1,
   "metadata": {},
   "outputs": [],
   "source": [
    "from selenium import webdriver\n",
    "import pandas as pd"
   ]
  },
  {
   "cell_type": "code",
   "execution_count": 96,
   "metadata": {},
   "outputs": [],
   "source": [
    "#driver = webdriver.Chrome('D:/softwares/chromedriver')"
   ]
  },
  {
   "cell_type": "code",
   "execution_count": 97,
   "metadata": {},
   "outputs": [],
   "source": [
    "#driver.get('https://www.barchart.com/stocks/quotes/GOOG/competitors')"
   ]
  },
  {
   "cell_type": "code",
   "execution_count": 98,
   "metadata": {},
   "outputs": [
    {
     "data": {
      "text/plain": [
       "<selenium.webdriver.chrome.webdriver.WebDriver (session=\"9b285982cdcccfa1572d40463d880a43\")>"
      ]
     },
     "execution_count": 98,
     "metadata": {},
     "output_type": "execute_result"
    }
   ],
   "source": []
  },
  {
   "cell_type": "code",
   "execution_count": 62,
   "metadata": {},
   "outputs": [],
   "source": [
    "# def getData(driver):\n",
    "#     table_data = driver.find_elements_by_tag_name('tbody')\n",
    "#     data = {}\n",
    "#     x = table_data[0].text.split(\"\\n\")\n",
    "#     i = 0\n",
    "#     while(i < len(x)):\n",
    "#         data[x[i]] = x[i+1]\n",
    "#         i = i+10\n",
    "#     return(data)\n",
    "\n",
    "def startDriver(path):\n",
    "    driver = webdriver.Chrome(path)\n",
    "    driver.get('https://www.barchart.com/stocks/quotes/GOOG/competitors')\n",
    "    return(driver)\n",
    "\n",
    "driver_path = 'D:/softwares/chromedriver'\n",
    "file_path = ''\n",
    "driver = startDriver(driver_path)    \n",
    "#data = getData(driver)\n"
   ]
  },
  {
   "cell_type": "code",
   "execution_count": 66,
   "metadata": {},
   "outputs": [],
   "source": []
  },
  {
   "cell_type": "code",
   "execution_count": 18,
   "metadata": {},
   "outputs": [
    {
     "data": {
      "text/plain": [
       "['  SIC-7370 Services-Computer Programming, Data Processi',\n",
       " '  Internet - Services',\n",
       " '  Indices Nasdaq 100',\n",
       " '  Indices S&P 100',\n",
       " '  Indices S&P 500',\n",
       " '  Indices S&P 500 Telcomm',\n",
       " '  Indices Nasdaq Composite',\n",
       " '  Indices Russell 1000',\n",
       " '  Indices Russell 3000',\n",
       " '  ']"
      ]
     },
     "execution_count": 18,
     "metadata": {},
     "output_type": "execute_result"
    }
   ],
   "source": [
    "#driver.find_element_by_id(\"competitors-quote-sectors\").text.split(\"\\n\")"
   ]
  },
  {
   "cell_type": "code",
   "execution_count": 40,
   "metadata": {},
   "outputs": [],
   "source": []
  },
  {
   "cell_type": "code",
   "execution_count": 48,
   "metadata": {},
   "outputs": [
    {
     "data": {
      "text/plain": [
       "'Internet - Services'"
      ]
     },
     "execution_count": 48,
     "metadata": {},
     "output_type": "execute_result"
    }
   ],
   "source": []
  },
  {
   "cell_type": "code",
   "execution_count": 28,
   "metadata": {},
   "outputs": [
    {
     "data": {
      "text/plain": [
       "'  SIC-7370 Services-Computer Programming, Data Processi'"
      ]
     },
     "execution_count": 28,
     "metadata": {},
     "output_type": "execute_result"
    }
   ],
   "source": [
    "#select_box[0].text.split(\"\\n\")[0]"
   ]
  },
  {
   "cell_type": "code",
   "execution_count": 64,
   "metadata": {},
   "outputs": [],
   "source": []
  },
  {
   "cell_type": "code",
   "execution_count": 96,
   "metadata": {},
   "outputs": [
    {
     "name": "stdout",
     "output_type": "stream",
     "text": [
      "{}\n",
      "{'CDLX': 'Cardlytics Inc', 'ZM': 'Zoom Video Communications Cl A', 'EVER': 'Everquote Inc Cl A', 'LVGO': 'Livongo Health Inc', 'GDS': 'Gds Holdings Ltd', 'VNET': '21Vianet Group Inc', 'LN': 'Line Corp', 'WIX': 'Wix.com Ltd', 'MODN': 'Model N Inc', 'SWCH': 'Switch Inc', 'TTD': 'Trade Desk Inc', 'GIGM': 'Gigamedia Ltd', 'FB': 'Facebook Inc', 'GOOG': 'Alphabet Cl C', 'GOOGL': 'Alphabet Cl A', 'RUBI': 'The Rubicon Project Inc', 'SNAP': 'Snap Inc', 'MTCH': 'Match Group Inc CS', 'SVMK': 'Svmk Inc', 'FDS': 'Factset Research Systems Inc', 'YNDX': 'Yandex N.V.', 'INFO': 'IHS Markit Ltd', 'BIDU': 'Baidu Inc', 'TWTR': 'Twitter Inc', 'PS': 'Pluralsight Inc Cl A', 'DOYU': 'Douyu International Holdings Ltd Ads', 'HSTM': 'Healthstream Inc', 'WUBA': '58.com Inc', 'PINS': 'Pinterest Inc', 'QTT': 'Qutoutiao Inc ADR', 'HCAT': 'Health Catalyst Inc', 'HUYA': 'Huya Inc', 'WB': 'Weibo Corp Ads', 'MDLA': 'Medallia Inc', 'ALYA': 'Alithya Group Inc Cl A', 'EB': 'Eventbrite Inc', 'SYNC': 'Synacor Inc', 'AUTO': 'Autoweb Inc', 'TRUE': 'Truecar Inc', 'TRIP': 'Tripadvisor Inc', 'SABR': 'Sabre Corp', 'JG': 'Aurora Mobile Ltd ADR'}\n"
     ]
    },
    {
     "ename": "IndexError",
     "evalue": "list index out of range",
     "output_type": "error",
     "traceback": [
      "\u001b[1;31m---------------------------------------------------------------------------\u001b[0m",
      "\u001b[1;31mIndexError\u001b[0m                                Traceback (most recent call last)",
      "\u001b[1;32m<ipython-input-96-579d72d28576>\u001b[0m in \u001b[0;36m<module>\u001b[1;34m\u001b[0m\n\u001b[0;32m     22\u001b[0m         \u001b[0mtable_data\u001b[0m \u001b[1;33m=\u001b[0m \u001b[0mdriver\u001b[0m\u001b[1;33m.\u001b[0m\u001b[0mfind_elements_by_tag_name\u001b[0m\u001b[1;33m(\u001b[0m\u001b[1;34m'table'\u001b[0m\u001b[1;33m)\u001b[0m\u001b[1;33m\u001b[0m\u001b[1;33m\u001b[0m\u001b[0m\n\u001b[0;32m     23\u001b[0m         \u001b[0mprint\u001b[0m\u001b[1;33m(\u001b[0m\u001b[0mdata\u001b[0m\u001b[1;33m)\u001b[0m\u001b[1;33m\u001b[0m\u001b[1;33m\u001b[0m\u001b[0m\n\u001b[1;32m---> 24\u001b[1;33m         \u001b[0mdata\u001b[0m \u001b[1;33m=\u001b[0m \u001b[0mscrapData\u001b[0m\u001b[1;33m(\u001b[0m\u001b[0mtable_data\u001b[0m\u001b[1;33m,\u001b[0m\u001b[0mdata\u001b[0m\u001b[1;33m)\u001b[0m\u001b[1;33m\u001b[0m\u001b[1;33m\u001b[0m\u001b[0m\n\u001b[0m\u001b[0;32m     25\u001b[0m \u001b[1;33m\u001b[0m\u001b[0m\n\u001b[0;32m     26\u001b[0m \u001b[1;33m\u001b[0m\u001b[0m\n",
      "\u001b[1;32m<ipython-input-96-579d72d28576>\u001b[0m in \u001b[0;36mscrapData\u001b[1;34m(table_data, data)\u001b[0m\n\u001b[0;32m      3\u001b[0m \u001b[1;33m\u001b[0m\u001b[0m\n\u001b[0;32m      4\u001b[0m     \u001b[1;31m#print(table_data[0].text)\u001b[0m\u001b[1;33m\u001b[0m\u001b[1;33m\u001b[0m\u001b[1;33m\u001b[0m\u001b[0m\n\u001b[1;32m----> 5\u001b[1;33m     \u001b[0mx\u001b[0m \u001b[1;33m=\u001b[0m \u001b[0mtable_data\u001b[0m\u001b[1;33m[\u001b[0m\u001b[1;36m0\u001b[0m\u001b[1;33m]\u001b[0m\u001b[1;33m.\u001b[0m\u001b[0mtext\u001b[0m\u001b[1;33m.\u001b[0m\u001b[0msplit\u001b[0m\u001b[1;33m(\u001b[0m\u001b[1;34m\"\\n\"\u001b[0m\u001b[1;33m)\u001b[0m\u001b[1;33m\u001b[0m\u001b[1;33m\u001b[0m\u001b[0m\n\u001b[0m\u001b[0;32m      6\u001b[0m     \u001b[0mi\u001b[0m \u001b[1;33m=\u001b[0m \u001b[1;36m2\u001b[0m\u001b[1;33m\u001b[0m\u001b[1;33m\u001b[0m\u001b[0m\n\u001b[0;32m      7\u001b[0m     \u001b[1;32mwhile\u001b[0m\u001b[1;33m(\u001b[0m\u001b[0mi\u001b[0m \u001b[1;33m<\u001b[0m \u001b[0mlen\u001b[0m\u001b[1;33m(\u001b[0m\u001b[0mx\u001b[0m\u001b[1;33m)\u001b[0m\u001b[1;33m)\u001b[0m\u001b[1;33m:\u001b[0m\u001b[1;33m\u001b[0m\u001b[1;33m\u001b[0m\u001b[0m\n",
      "\u001b[1;31mIndexError\u001b[0m: list index out of range"
     ]
    }
   ],
   "source": [
    "def scrapData(table_data,data):\n",
    "    #print(driver)\n",
    "    \n",
    "    #print(table_data[0].text)\n",
    "    x = table_data[0].text.split(\"\\n\")\n",
    "    i = 2\n",
    "    while(i < len(x)):\n",
    "        data[x[i]] = x[i+1]\n",
    "        i = i+10\n",
    "\n",
    "    return(data)        "
   ]
  },
  {
   "cell_type": "code",
   "execution_count": 99,
   "metadata": {},
   "outputs": [
    {
     "name": "stdout",
     "output_type": "stream",
     "text": [
      "SIC-7370 Services-Computer Programming, Data Processi\n",
      "Internet - Services\n"
     ]
    },
    {
     "ename": "IndexError",
     "evalue": "list index out of range",
     "output_type": "error",
     "traceback": [
      "\u001b[1;31m---------------------------------------------------------------------------\u001b[0m",
      "\u001b[1;31mIndexError\u001b[0m                                Traceback (most recent call last)",
      "\u001b[1;32m<ipython-input-99-8205a89458da>\u001b[0m in \u001b[0;36m<module>\u001b[1;34m\u001b[0m\n\u001b[0;32m     13\u001b[0m         \u001b[0mtable_data\u001b[0m \u001b[1;33m=\u001b[0m \u001b[0mdriver\u001b[0m\u001b[1;33m.\u001b[0m\u001b[0mfind_elements_by_tag_name\u001b[0m\u001b[1;33m(\u001b[0m\u001b[1;34m'table'\u001b[0m\u001b[1;33m)\u001b[0m\u001b[1;33m\u001b[0m\u001b[1;33m\u001b[0m\u001b[0m\n\u001b[0;32m     14\u001b[0m         \u001b[1;31m#print(data)\u001b[0m\u001b[1;33m\u001b[0m\u001b[1;33m\u001b[0m\u001b[1;33m\u001b[0m\u001b[0m\n\u001b[1;32m---> 15\u001b[1;33m         \u001b[0mdata\u001b[0m \u001b[1;33m=\u001b[0m \u001b[0mscrapData\u001b[0m\u001b[1;33m(\u001b[0m\u001b[0mtable_data\u001b[0m\u001b[1;33m,\u001b[0m\u001b[0mdata\u001b[0m\u001b[1;33m)\u001b[0m\u001b[1;33m\u001b[0m\u001b[1;33m\u001b[0m\u001b[0m\n\u001b[0m",
      "\u001b[1;32m<ipython-input-96-579d72d28576>\u001b[0m in \u001b[0;36mscrapData\u001b[1;34m(table_data, data)\u001b[0m\n\u001b[0;32m      3\u001b[0m \u001b[1;33m\u001b[0m\u001b[0m\n\u001b[0;32m      4\u001b[0m     \u001b[1;31m#print(table_data[0].text)\u001b[0m\u001b[1;33m\u001b[0m\u001b[1;33m\u001b[0m\u001b[1;33m\u001b[0m\u001b[0m\n\u001b[1;32m----> 5\u001b[1;33m     \u001b[0mx\u001b[0m \u001b[1;33m=\u001b[0m \u001b[0mtable_data\u001b[0m\u001b[1;33m[\u001b[0m\u001b[1;36m0\u001b[0m\u001b[1;33m]\u001b[0m\u001b[1;33m.\u001b[0m\u001b[0mtext\u001b[0m\u001b[1;33m.\u001b[0m\u001b[0msplit\u001b[0m\u001b[1;33m(\u001b[0m\u001b[1;34m\"\\n\"\u001b[0m\u001b[1;33m)\u001b[0m\u001b[1;33m\u001b[0m\u001b[1;33m\u001b[0m\u001b[0m\n\u001b[0m\u001b[0;32m      6\u001b[0m     \u001b[0mi\u001b[0m \u001b[1;33m=\u001b[0m \u001b[1;36m2\u001b[0m\u001b[1;33m\u001b[0m\u001b[1;33m\u001b[0m\u001b[0m\n\u001b[0;32m      7\u001b[0m     \u001b[1;32mwhile\u001b[0m\u001b[1;33m(\u001b[0m\u001b[0mi\u001b[0m \u001b[1;33m<\u001b[0m \u001b[0mlen\u001b[0m\u001b[1;33m(\u001b[0m\u001b[0mx\u001b[0m\u001b[1;33m)\u001b[0m\u001b[1;33m)\u001b[0m\u001b[1;33m:\u001b[0m\u001b[1;33m\u001b[0m\u001b[1;33m\u001b[0m\u001b[0m\n",
      "\u001b[1;31mIndexError\u001b[0m: list index out of range"
     ]
    }
   ],
   "source": [
    "from selenium.webdriver.support.select import Select\n",
    "select_box = Select(driver.find_element_by_id(\"competitors-quote-sectors\"))\n",
    "data = {}\n",
    "for i in select_box.options:\n",
    "        select_box.select_by_visible_text(i.text)\n",
    "        print(i.text)\n",
    "#         try:\n",
    "#             driver.find_element_by_link_text(\"Show all\").click()\n",
    "#             #print(\"H\")\n",
    "#         except:\n",
    "#             a = 0 \n",
    "            #print(a)\n",
    "        table_data = driver.find_elements_by_tag_name('table')\n",
    "        #print(data)\n",
    "        data = scrapData(table_data,data)"
   ]
  },
  {
   "cell_type": "code",
   "execution_count": 104,
   "metadata": {},
   "outputs": [],
   "source": [
    "from selenium.webdriver.support.select import Select\n",
    "from selenium.webdriver.support.ui import WebDriverWait\n",
    "from selenium.webdriver.support import expected_conditions as EC\n",
    "\n",
    "\n",
    "select_box = Select(driver.find_element_by_id(\"competitors-quote-sectors\"))\n",
    "\n",
    "select_box.select_by_visible_text(select_box.options[0].text)"
   ]
  },
  {
   "cell_type": "code",
   "execution_count": null,
   "metadata": {},
   "outputs": [],
   "source": []
  },
  {
   "cell_type": "code",
   "execution_count": 89,
   "metadata": {},
   "outputs": [],
   "source": [
    "data = {}\n",
    "table_data = driver.find_elements_by_tag_name('table')\n",
    "x = table_data[0].text.split(\"\\n\")\n",
    "i = 2\n",
    "\n",
    "while(i < len(x)):\n",
    "    data[x[i]] = x[i+1]\n",
    "    i = i+10\n",
    "#print(driver)     "
   ]
  },
  {
   "cell_type": "code",
   "execution_count": 90,
   "metadata": {},
   "outputs": [
    {
     "data": {
      "text/plain": [
       "{'ASPU': 'Aspen Group Inc',\n",
       " 'BILI': 'Bilibili Inc ADR',\n",
       " 'SHOP': 'Shopify Inc',\n",
       " 'ZS': 'Zscaler Inc',\n",
       " 'VNET': '21Vianet Group Inc',\n",
       " 'ETSY': 'Etsy Inc',\n",
       " 'LLNW': 'Limelight Networks',\n",
       " 'TTD': 'Trade Desk Inc',\n",
       " 'GIGM': 'Gigamedia Ltd',\n",
       " 'FB': 'Facebook Inc',\n",
       " 'GOOG': 'Alphabet Cl C',\n",
       " 'GOOGL': 'Alphabet Cl A',\n",
       " 'ANGI': 'Homeservices Inc',\n",
       " 'AKAM': 'Akamai Technologies',\n",
       " 'ZG': 'Zillow Grp Inc Cl A',\n",
       " 'MTCH': 'Match Group Inc CS',\n",
       " 'SVMK': 'Svmk Inc',\n",
       " 'DBX': 'Dropbox Inc',\n",
       " 'CTK': 'Cootek [Cayman] Inc',\n",
       " 'YY': 'YY Inc',\n",
       " 'UBER': 'Uber Technologies Inc',\n",
       " 'ATHM': 'Autohome Inc',\n",
       " 'BIDU': 'Baidu Inc',\n",
       " 'HSTM': 'Healthstream Inc',\n",
       " 'XNET': 'Xunlei Ltd ADR',\n",
       " 'LPSN': 'Liveperson Inc',\n",
       " 'CANG': 'Cango Inc ADR',\n",
       " 'UXIN': 'Uxin Ltd Ads',\n",
       " 'SOHU': 'Sohu.com Inc',\n",
       " 'BLIN': 'Bridgeline Digital',\n",
       " 'UPWK': 'Upwork Inc',\n",
       " 'EB': 'Eventbrite Inc',\n",
       " 'TRVG': 'Trivago NV',\n",
       " 'LYFT': 'Lyft Inc Cl A',\n",
       " 'SYNC': 'Synacor Inc',\n",
       " 'TRUE': 'Truecar Inc',\n",
       " 'VIOT': 'Viomi Technology Co. Ltd ADR',\n",
       " 'STG': 'Sunlands Online Education Group ADR',\n",
       " 'YTRA': 'Yatra Online Inc',\n",
       " 'JRJC': 'China Finance Online',\n",
       " 'LEAF': 'Leaf Group Ltd',\n",
       " 'MCHX': 'Marchex Inc',\n",
       " 'LTRPA': 'Liberty Tripadv A',\n",
       " 'YRD': 'Yirendai Ltd',\n",
       " 'RMBL': 'Rumbleon Inc.'}"
      ]
     },
     "execution_count": 90,
     "metadata": {},
     "output_type": "execute_result"
    }
   ],
   "source": [
    "data"
   ]
  },
  {
   "cell_type": "code",
   "execution_count": null,
   "metadata": {},
   "outputs": [],
   "source": []
  },
  {
   "cell_type": "code",
   "execution_count": 50,
   "metadata": {},
   "outputs": [],
   "source": [
    "select_box.select_by_visible_text(a[2][2:])"
   ]
  },
  {
   "cell_type": "code",
   "execution_count": 8,
   "metadata": {},
   "outputs": [
    {
     "name": "stdout",
     "output_type": "stream",
     "text": [
      "{'ASPU': 'Aspen Group Inc', 'BILI': 'Bilibili Inc ADR', 'SHOP': 'Shopify Inc', 'ZS': 'Zscaler Inc', 'VNET': '21Vianet Group Inc', 'ETSY': 'Etsy Inc', 'LLNW': 'Limelight Networks', 'TTD': 'Trade Desk Inc', 'GIGM': 'Gigamedia Ltd', 'FB': 'Facebook Inc', 'GOOG': 'Alphabet Cl C', 'GOOGL': 'Alphabet Cl A', 'ANGI': 'Homeservices Inc', 'AKAM': 'Akamai Technologies', 'ZG': 'Zillow Grp Inc Cl A', 'MTCH': 'Match Group Inc CS', 'SVMK': 'Svmk Inc', 'DBX': 'Dropbox Inc', 'CTK': 'Cootek [Cayman] Inc', 'YY': 'YY Inc', 'UBER': 'Uber Technologies Inc', 'ATHM': 'Autohome Inc', 'BIDU': 'Baidu Inc', 'HSTM': 'Healthstream Inc', 'XNET': 'Xunlei Ltd ADR', 'LPSN': 'Liveperson Inc', 'CANG': 'Cango Inc ADR', 'UXIN': 'Uxin Ltd Ads', 'SOHU': 'Sohu.com Inc', 'BLIN': 'Bridgeline Digital', 'UPWK': 'Upwork Inc', 'EB': 'Eventbrite Inc', 'TRVG': 'Trivago NV', 'LYFT': 'Lyft Inc Cl A', 'SYNC': 'Synacor Inc', 'TRUE': 'Truecar Inc', 'VIOT': 'Viomi Technology Co. Ltd ADR', 'STG': 'Sunlands Online Education Group ADR', 'YTRA': 'Yatra Online Inc', 'JRJC': 'China Finance Online', 'LEAF': 'Leaf Group Ltd', 'MCHX': 'Marchex Inc', 'LTRPA': 'Liberty Tripadv A', 'YRD': 'Yirendai Ltd', 'RMBL': 'Rumbleon Inc.'}\n"
     ]
    }
   ],
   "source": [
    "print(data)"
   ]
  },
  {
   "cell_type": "code",
   "execution_count": 39,
   "metadata": {},
   "outputs": [],
   "source": [
    "f = open(\"./input_of_symbols.txt\")"
   ]
  },
  {
   "cell_type": "code",
   "execution_count": 40,
   "metadata": {},
   "outputs": [],
   "source": [
    "a = f.read().split(\",\")\n"
   ]
  },
  {
   "cell_type": "code",
   "execution_count": 44,
   "metadata": {},
   "outputs": [
    {
     "data": {
      "text/plain": [
       "'Aspen Group Inc'"
      ]
     },
     "execution_count": 44,
     "metadata": {},
     "output_type": "execute_result"
    }
   ],
   "source": [
    "data['ASPU']"
   ]
  },
  {
   "cell_type": "code",
   "execution_count": 42,
   "metadata": {},
   "outputs": [
    {
     "ename": "KeyError",
     "evalue": "'AAPL'",
     "output_type": "error",
     "traceback": [
      "\u001b[1;31m---------------------------------------------------------------------------\u001b[0m",
      "\u001b[1;31mKeyError\u001b[0m                                  Traceback (most recent call last)",
      "\u001b[1;32m<ipython-input-42-d8be71f3938e>\u001b[0m in \u001b[0;36m<module>\u001b[1;34m\u001b[0m\n\u001b[0;32m      1\u001b[0m \u001b[1;32mimport\u001b[0m \u001b[0mjson\u001b[0m\u001b[1;33m\u001b[0m\u001b[1;33m\u001b[0m\u001b[0m\n\u001b[1;32m----> 2\u001b[1;33m \u001b[0mr\u001b[0m \u001b[1;33m=\u001b[0m \u001b[0mjson\u001b[0m\u001b[1;33m.\u001b[0m\u001b[0mdumps\u001b[0m\u001b[1;33m(\u001b[0m\u001b[1;33m[\u001b[0m\u001b[1;33m{\u001b[0m\u001b[0mi\u001b[0m\u001b[1;33m:\u001b[0m\u001b[0mdata\u001b[0m\u001b[1;33m[\u001b[0m\u001b[0mi\u001b[0m\u001b[1;33m]\u001b[0m\u001b[1;33m}\u001b[0m \u001b[1;32mfor\u001b[0m \u001b[0mi\u001b[0m \u001b[1;32min\u001b[0m \u001b[0ma\u001b[0m\u001b[1;33m]\u001b[0m\u001b[1;33m)\u001b[0m\u001b[1;33m\u001b[0m\u001b[1;33m\u001b[0m\u001b[0m\n\u001b[0m",
      "\u001b[1;32m<ipython-input-42-d8be71f3938e>\u001b[0m in \u001b[0;36m<listcomp>\u001b[1;34m(.0)\u001b[0m\n\u001b[0;32m      1\u001b[0m \u001b[1;32mimport\u001b[0m \u001b[0mjson\u001b[0m\u001b[1;33m\u001b[0m\u001b[1;33m\u001b[0m\u001b[0m\n\u001b[1;32m----> 2\u001b[1;33m \u001b[0mr\u001b[0m \u001b[1;33m=\u001b[0m \u001b[0mjson\u001b[0m\u001b[1;33m.\u001b[0m\u001b[0mdumps\u001b[0m\u001b[1;33m(\u001b[0m\u001b[1;33m[\u001b[0m\u001b[1;33m{\u001b[0m\u001b[0mi\u001b[0m\u001b[1;33m:\u001b[0m\u001b[0mdata\u001b[0m\u001b[1;33m[\u001b[0m\u001b[0mi\u001b[0m\u001b[1;33m]\u001b[0m\u001b[1;33m}\u001b[0m \u001b[1;32mfor\u001b[0m \u001b[0mi\u001b[0m \u001b[1;32min\u001b[0m \u001b[0ma\u001b[0m\u001b[1;33m]\u001b[0m\u001b[1;33m)\u001b[0m\u001b[1;33m\u001b[0m\u001b[1;33m\u001b[0m\u001b[0m\n\u001b[0m",
      "\u001b[1;31mKeyError\u001b[0m: 'AAPL'"
     ]
    }
   ],
   "source": [
    "import json\n",
    "r = json.dumps([{i:data[i]} for i in a])"
   ]
  },
  {
   "cell_type": "code",
   "execution_count": 38,
   "metadata": {},
   "outputs": [
    {
     "data": {
      "text/plain": [
       "'[{\"ASPU\": \"Aspen Group Inc\"}, {\"BILI\": \"Bilibili Inc ADR\"}, {\"SHOP\": \"Shopify Inc\"}, {\"ZS\": \"Zscaler Inc\"}, {\"VNET\": \"21Vianet Group Inc\"}, {\"ETSY\": \"Etsy Inc\"}, {\"LLNW\": \"Limelight Networks\"}, {\"TTD\": \"Trade Desk Inc\"}, {\"GIGM\": \"Gigamedia Ltd\"}, {\"FB\": \"Facebook Inc\"}, {\"GOOG\": \"Alphabet Cl C\"}, {\"GOOGL\": \"Alphabet Cl A\"}, {\"ANGI\": \"Homeservices Inc\"}, {\"AKAM\": \"Akamai Technologies\"}, {\"ZG\": \"Zillow Grp Inc Cl A\"}, {\"MTCH\": \"Match Group Inc CS\"}, {\"SVMK\": \"Svmk Inc\"}, {\"DBX\": \"Dropbox Inc\"}, {\"CTK\": \"Cootek [Cayman] Inc\"}, {\"YY\": \"YY Inc\"}, {\"UBER\": \"Uber Technologies Inc\"}, {\"ATHM\": \"Autohome Inc\"}, {\"BIDU\": \"Baidu Inc\"}, {\"HSTM\": \"Healthstream Inc\"}, {\"XNET\": \"Xunlei Ltd ADR\"}, {\"LPSN\": \"Liveperson Inc\"}, {\"CANG\": \"Cango Inc ADR\"}, {\"UXIN\": \"Uxin Ltd Ads\"}, {\"SOHU\": \"Sohu.com Inc\"}, {\"BLIN\": \"Bridgeline Digital\"}, {\"UPWK\": \"Upwork Inc\"}, {\"EB\": \"Eventbrite Inc\"}, {\"TRVG\": \"Trivago NV\"}, {\"LYFT\": \"Lyft Inc Cl A\"}, {\"SYNC\": \"Synacor Inc\"}, {\"TRUE\": \"Truecar Inc\"}, {\"VIOT\": \"Viomi Technology Co. Ltd ADR\"}, {\"STG\": \"Sunlands Online Education Group ADR\"}, {\"YTRA\": \"Yatra Online Inc\"}, {\"JRJC\": \"China Finance Online\"}, {\"LEAF\": \"Leaf Group Ltd\"}, {\"MCHX\": \"Marchex Inc\"}, {\"LTRPA\": \"Liberty Tripadv A\"}, {\"YRD\": \"Yirendai Ltd\"}, {\"RMBL\": \"Rumbleon Inc.\"}]'"
      ]
     },
     "execution_count": 38,
     "metadata": {},
     "output_type": "execute_result"
    }
   ],
   "source": []
  },
  {
   "cell_type": "code",
   "execution_count": 24,
   "metadata": {},
   "outputs": [
    {
     "data": {
      "text/plain": [
       "'[{\"a\": 5}, {\"a\": 5}]'"
      ]
     },
     "execution_count": 24,
     "metadata": {},
     "output_type": "execute_result"
    }
   ],
   "source": [
    "json_format = {'list': []}\n",
    "json_format['list'].append({'a':5})\n",
    "json_format['list'].append({'a':5})\n",
    "json_format['list']\n",
    "json.dumps(json_format['list'])"
   ]
  },
  {
   "cell_type": "code",
   "execution_count": null,
   "metadata": {},
   "outputs": [],
   "source": []
  },
  {
   "cell_type": "code",
   "execution_count": null,
   "metadata": {},
   "outputs": [],
   "source": []
  },
  {
   "cell_type": "code",
   "execution_count": null,
   "metadata": {},
   "outputs": [],
   "source": [
    "\n",
    "    "
   ]
  },
  {
   "cell_type": "code",
   "execution_count": null,
   "metadata": {},
   "outputs": [],
   "source": []
  }
 ],
 "metadata": {
  "kernelspec": {
   "display_name": "Python 3",
   "language": "python",
   "name": "python3"
  },
  "language_info": {
   "codemirror_mode": {
    "name": "ipython",
    "version": 3
   },
   "file_extension": ".py",
   "mimetype": "text/x-python",
   "name": "python",
   "nbconvert_exporter": "python",
   "pygments_lexer": "ipython3",
   "version": "3.7.3"
  }
 },
 "nbformat": 4,
 "nbformat_minor": 2
}
