{
 "cells": [
  {
   "cell_type": "code",
   "execution_count": 1,
   "metadata": {},
   "outputs": [],
   "source": [
    "#importing selnium and required things \n",
    "\n",
    "import json\n",
    "from selenium import webdriver\n",
    "import pandas as pd\n",
    "from selenium.webdriver.support.select import Select\n",
    "from selenium.webdriver.support.ui import WebDriverWait\n",
    "from selenium.webdriver.support import expected_conditions as EC\n",
    "from selenium.webdriver.common.by import By\n",
    "import time"
   ]
  },
  {
   "cell_type": "code",
   "execution_count": 2,
   "metadata": {},
   "outputs": [],
   "source": [
    "#function for starting the driver\n",
    "def startDriver(path):\n",
    "    driver = webdriver.Chrome(path)\n",
    "    driver.get('https://www.barchart.com/stocks/quotes/GOOG/competitors')\n",
    "    return(driver)"
   ]
  },
  {
   "cell_type": "code",
   "execution_count": 11,
   "metadata": {},
   "outputs": [],
   "source": [
    "#scrapping the data whichever is visible\n",
    "\n",
    "def scrapData(driver,data):\n",
    "    delay = 100\n",
    "    #time.sleep(100)\n",
    "    table_data = WebDriverWait(driver, delay).until(EC.presence_of_element_located((By.XPATH, '//tbody')))\n",
    "    x = table_data.text.split(\"\\n\")\n",
    "    i = 0\n",
    "    while(i < len(x)):\n",
    "        data[x[i]] = x[i+1]\n",
    "        i = i+10\n",
    "    return(data)        \n",
    "\n",
    "\n",
    "\n"
   ]
  },
  {
   "cell_type": "code",
   "execution_count": 21,
   "metadata": {},
   "outputs": [],
   "source": [
    "#getting the data based on the option selected\n",
    "def getWholeData(select_box,driver,text):\n",
    "    data = {}\n",
    "    select_box.select_by_visible_text(text)\n",
    "    try:\n",
    "        #checking if there are ore pages then load all the pages\n",
    "            \n",
    "        driver.find_element_by_link_text(\"Show all\").click()\n",
    "        element = WebDriverWait(driver, 20).until(EC.presence_of_element_located((By.XPATH, '//tbody')))\n",
    "#       element.click()\n",
    "        print(\"H\")        \n",
    "    except:\n",
    "        a = 0 \n",
    "        #print(a)\n",
    "            \n",
    "    data = scrapData(driver,data)\n",
    "    #print(len(data))\n",
    "    return(data)"
   ]
  },
  {
   "cell_type": "code",
   "execution_count": 22,
   "metadata": {},
   "outputs": [],
   "source": [
    "#getting reference of the dropdown\n",
    "def getDropDownList(driver):\n",
    "    return(Select(driver.find_element_by_id(\"competitors-quote-sectors\")))\n"
   ]
  },
  {
   "cell_type": "code",
   "execution_count": 23,
   "metadata": {},
   "outputs": [],
   "source": [
    "#main line of code \n",
    "# driver_path = 'D:/softwares/chromedriver'\n",
    "# file_path = ''\n",
    "# driver = startDriver(driver_path)\n",
    "dropdown_items = getDropDownList(driver)\n",
    "data = getWholeData(dropdown_items,driver,\"Indices S&P 500\")\n"
   ]
  },
  {
   "cell_type": "code",
   "execution_count": 24,
   "metadata": {},
   "outputs": [
    {
     "name": "stdout",
     "output_type": "stream",
     "text": [
      "100\n"
     ]
    }
   ],
   "source": [
    "print(len(data))"
   ]
  },
  {
   "cell_type": "code",
   "execution_count": 16,
   "metadata": {},
   "outputs": [],
   "source": [
    "#reading the file\n",
    "import json\n",
    "\n",
    "f = open(\"./input_of_symbols.txt\")\n",
    "a = f.read().split(\",\")\n",
    "try:\n",
    "    r = json.dumps([{i:data[i]} for i in a])\n",
    "except:\n",
    "    print(\"Data not found\")"
   ]
  },
  {
   "cell_type": "code",
   "execution_count": 17,
   "metadata": {},
   "outputs": [
    {
     "data": {
      "text/plain": [
       "'[{\"AAPL\": \"Apple Inc\"}, {\"GOOG\": \"Alphabet Cl C\"}, {\"MSFT\": \"Microsoft Corp\"}]'"
      ]
     },
     "execution_count": 17,
     "metadata": {},
     "output_type": "execute_result"
    }
   ],
   "source": [
    "r"
   ]
  },
  {
   "cell_type": "code",
   "execution_count": null,
   "metadata": {},
   "outputs": [],
   "source": []
  }
 ],
 "metadata": {
  "kernelspec": {
   "display_name": "Python 3",
   "language": "python",
   "name": "python3"
  },
  "language_info": {
   "codemirror_mode": {
    "name": "ipython",
    "version": 3
   },
   "file_extension": ".py",
   "mimetype": "text/x-python",
   "name": "python",
   "nbconvert_exporter": "python",
   "pygments_lexer": "ipython3",
   "version": "3.7.3"
  }
 },
 "nbformat": 4,
 "nbformat_minor": 2
}
